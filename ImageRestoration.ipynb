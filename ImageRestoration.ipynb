{
 "cells": [
  {
   "cell_type": "markdown",
   "metadata": {
    "slideshow": {
     "slide_type": "slide"
    }
   },
   "source": [
    "# The imaging equation\n",
    "Our analysis of linear, shift-invariant imaging systems is built\n",
    "around the following imaging equation:\n",
    "\n",
    "$$g(x,y)={\\mathrm{psf}}(x,y)**f(x,y),$$\n",
    "\n",
    "where $f(x,y)$ is the object being imaged, ${\\mathrm{psf}}(x,y)$\n",
    "is the system point spread function, and $g(x,y)$ the image. The notation $**$\n",
    "denotes the 2D convolutiuon. \n",
    "\n",
    "In the cell below, we will open an image, create a Gaussian PSF, and convolve them \n",
    "to create a noiseless blurred image.\n",
    "\n",
    "Note that the Fourier convolution-multiplication theorem allows us to convert a convolution \n",
    "in the spatial domain into a multiplication in the frequency domain.  \n",
    "\n",
    "$$G(\\nu_{x},\\nu_{y})={OTF}(\\nu_{x},\\nu_{y})F(\\nu_{x},\\nu_{y}).$$\n",
    "\n",
    "Here $G(\\nu_{x},\\nu_{y})$ is the FT of $g(x,y)$, $F(\\nu_{x},\\nu_{y})$ is the FT of $f(x,y)$, and ${OTF}(\\nu_{x},\\nu_{y})$ is the FT of the PSF. OTF stands for Optical Transfer Function. \n",
    "\n",
    "\n"
   ]
  },
  {
   "cell_type": "code",
   "execution_count": null,
   "metadata": {
    "slideshow": {
     "slide_type": "slide"
    }
   },
   "outputs": [],
   "source": [
    "#First we will open an image and create a Gaussian PSF, then blur \n",
    "\n",
    "from ipywidgets import *\n",
    "from scipy import ndimage\n",
    "from scipy import signal\n",
    "import matplotlib as mpl\n",
    "import matplotlib.pyplot as plt\n",
    "mpl.rcParams.update(mpl.rcParamsDefault)\n",
    "import numpy as np\n",
    "%matplotlib notebook\n",
    "from matplotlib.image import imread\n",
    "from numpy.fft  import fft2, ifft2, fftshift, ifftshift\n",
    "\n",
    "def np_fftconvolve(A, B):\n",
    "    return np.real(fftshift(ifft2(fft2(A)*fft2(B, s=A.shape))))\n",
    "\n",
    "N=512\n",
    "\n",
    "im = imread('c_vm1125.fre.png')[0:N,0:N].astype(np.float64)\n",
    "\n",
    "\n",
    "# Calculate a Gaussian filter\n",
    "sig = 0.01\n",
    "x = np.linspace(-1, 1, im.shape[0])\n",
    "y = np.linspace(-1, 1, im.shape[1])\n",
    "xx, yy = np.meshgrid(x, y)\n",
    "psf1 = np.zeros_like(im)\n",
    "psf1 = (1.0/(sig*np.sqrt(2.0*np.pi))*np.exp(-(xx**2 + yy**2)/(2.0*sig**2))) \n",
    "#normalize\n",
    "psf1 = psf1/np.sum(psf1)\n",
    "\n",
    "\n",
    "#imfilt = signal.convolve2d(im, filt, boundary='symm', mode='same')\n",
    "imfilt1 = np_fftconvolve(im, psf1)\n",
    "\n",
    "\n",
    "fig, ax = plt.subplots(2, 3, figsize=(9,6))\n",
    "fig.suptitle(\"The imaging equation: blurring\", fontsize=16)\n",
    "\n",
    "# Plot original\n",
    "ax[0,0].imshow(im, cmap='gray')\n",
    "ax[0,1].imshow(psf1,cmap='gray')\n",
    "ax[0,2].imshow(imfilt1,cmap='gray')\n",
    "\n",
    "ax[0,0].set_title('Original')\n",
    "ax[0,1].set_title('Gaussian PSF')\n",
    "ax[0,2].set_title('Blurred')\n",
    "\n",
    "ax[1,0].plot(im[256,:])\n",
    "ax[1,1].plot(psf1[256,:])\n",
    "ax[1,2].plot(imfilt1[256,:])\n",
    "\n",
    "\n",
    "fig.tight_layout()\n",
    "fig.subplots_adjust(top=0.88)\n"
   ]
  },
  {
   "cell_type": "markdown",
   "metadata": {
    "slideshow": {
     "slide_type": "slide"
    }
   },
   "source": [
    "# The imaging equation: To do \n",
    "Change the width of the Gaussian blur by changing the sig parameter. \n",
    "\n",
    "When you are done, set it back to 0.01.\n",
    "\n",
    "Now we are going to think about undoing this blurring."
   ]
  },
  {
   "cell_type": "markdown",
   "metadata": {
    "slideshow": {
     "slide_type": "slide"
    }
   },
   "source": [
    "# The image restoration problem\n",
    "If we know the ${\\mathrm{psf}}(x,y)$, can't we always recover $f(x,y)$\n",
    "from the image $g(x,y)$ by inverse filtering?\n",
    "\n",
    "$$G(\\nu_{x},\\nu_{y})=\\mathrm{OTF}(\\nu_{x},\\nu_{y})F(\\nu_{x},\\nu_{y})\\,\\,\\,\\Rightarrow\\,\\,\\,F(\\nu_{x},\\nu_{y})=\\mathrm{OTF}^{-1}(\\nu_{x},\\nu_{y})G(\\nu_{x},\\nu_{y}).$$\n",
    "\n",
    "No, there are several problems:\n",
    "* $\\mathrm{OTF}^{-1}(\\nu_{x},\\nu_{y})$ may not exist. (Like when $\\mathrm{OTF}(\\nu_{x},\\nu_{y})=0$.)\n",
    "* If $\\mathrm{OTF}^{-1}(\\nu_{x},\\nu_{y})$ exists, it may be ill-conditioned:\n",
    "that is, a small perturbation in $g(x,y)$ could lead to a large perturbation\n",
    "in the estimate of $f(x,y)$. In practice $g(x,y)$ is always contaminated\n",
    "by small perturbations: noise! \n",
    "\n",
    "\n"
   ]
  },
  {
   "cell_type": "markdown",
   "metadata": {
    "slideshow": {
     "slide_type": "slide"
    }
   },
   "source": [
    "# The image restoration problem\n",
    "Our imaging equation should really be\n",
    "\n",
    "$$\\mathbf{g}(x,y)={\\mathrm{psf}}(x,y)**f(x,y)+{\\mathbf{n}}(x,y)$$\n",
    "\n",
    "Then we have \n",
    "$${F}^{(est)}(\\nu_{x},\\nu_{y})=\\mathrm{OTF}^{-1}(\\nu_{x},\\nu_{y}){\\mathbf{G}}(\\nu_{x},\\nu_{y})=F(\\nu_{x},\\nu_{y})+\\frac{N(\\nu_{x},\\nu_{y})}{\\mathrm{OTF}(\\nu_{x},\\nu_{y})}.$$\n",
    "\n",
    "A problem having these characteristics is called ill-posed. We need to constrain or regularize the problem. "
   ]
  },
  {
   "cell_type": "markdown",
   "metadata": {
    "slideshow": {
     "slide_type": "slide"
    }
   },
   "source": [
    "# Pseudo-Inverse Filtering\n",
    "\n",
    "If the inverse $\\mathrm{OTF}^{-1}(\\nu_{x},\\nu_{y})$ simply doesn't\n",
    "exist, another approach is to employ the pseudo-inverse. \n",
    "This emerges as the solution to the following problem:\n",
    "$${\\widehat{\\mathbf{f}}}_{{\\mathrm{Pseudo}}}(x)=\\min_{f(x)}\\int\\left|{\\mathbf{g}}(x)-{\\mathrm{psf}}(x)*f(x)\\right|^{2}\\,dx\\,\\,{\\mathrm{subject}\\,\\mathrm{to}}\\,\\,\\left|f(x)\\right|^{2}\\,\\,{\\mathrm{is}\\,\\mathrm{minimum}}.$$\n",
    "\n",
    "In Fourier space, this becomes\n",
    "\n",
    "$${\\widehat{\\mathbf{F}}}_{{\\mathrm{Pseudo}}}(\\nu)=\\min_{F(\\nu)}\\int\\left|{\\mathbf{G}}(\\nu)-OTF(\\nu)F(\\nu)\\right|^{2}\\,d\\nu\\,\\,{\\mathrm{subject}\\,\\mathrm{to}}\\,\\,\\left|F(\\nu)\\right|^{2}\\,\\,{\\mathrm{is}\\,\\mathrm{minimum}}.$$\n",
    "\n",
    "The solution is easily seen to be \n",
    "\n",
    "$${\\widehat{\\mathbf{F}}}_{{\\mathrm{Pseudo}}}(\\nu)=\\left\\{ \\begin{array}{c}\n",
    "OTF^{-1}(\\nu){\\mathbf{G}}(\\nu)\\,\\,\\,{\\mathrm{when}}\\,OTF(\\nu)\\neq0\\\\\n",
    "0\\,\\,\\,{\\mathrm{when}}\\,OTF(\\nu)=0.\n",
    "\\end{array}\\right.$$\n",
    "\n",
    "Since $OTF(\\nu)$ can be arbitrarily close to zero, while we have solved the existence problem, we haven't really\n",
    "solved the ill-conditioning problem.\n"
   ]
  },
  {
   "cell_type": "code",
   "execution_count": null,
   "metadata": {
    "slideshow": {
     "slide_type": "slide"
    }
   },
   "outputs": [],
   "source": [
    "#Let's try a pseudoinverse filter on noiseless data\n",
    "\n",
    "#Calcualte OTF with shifts for display\n",
    "otfshift = fftshift(fft2(fftshift(psf1)))\n",
    "\n",
    "#Caluclate without shifts for use in consoytrcuting pseudoinverse\n",
    "otf = fft2(psf1)\n",
    "\n",
    "thresh=0.00001\n",
    "\n",
    "pseudoinv = np.zeros_like(otf)\n",
    "pseudoinv[(np.abs(otf)>thresh).nonzero()]=1.0/otf[(np.abs(otf)>thresh).nonzero()]\n",
    "#invotf=fftshift(invotf)\n",
    "\n",
    "restorpseudo = np.real(fftshift(ifft2(fft2(imfilt1)*pseudoinv)))\n",
    "\n",
    "fig, ax = plt.subplots(2, 3, figsize=(9,6))\n",
    "fig.suptitle(\"Pseudoinverse\", fontsize=16)\n",
    "logpseudo = np.log(np.abs(pseudoinv+1e-12)) # Log transform (add small number to avoid underflow issues)\n",
    "\n",
    "# Plot original\n",
    "ax[0,0].imshow(np.abs(otfshift), cmap='gray')\n",
    "ax[0,1].imshow(fftshift(logpseudo),cmap='gray')\n",
    "ax[0,2].imshow(restorpseudo,cmap='gray')\n",
    "\n",
    "shiftpseudo = fftshift(pseudoinv)\n",
    "\n",
    "ax[1,0].plot(np.abs(otfshift[256,:]))\n",
    "ax[1,1].plot(np.abs(shiftpseudo[256,:]))\n",
    "ax[1,2].plot(restorpseudo[256,:])\n",
    "\n",
    "ax[0,0].set_title('OTF')\n",
    "ax[0,1].set_title('log Pseudoinverse')\n",
    "ax[0,2].set_title('Recovered (noiseless)')\n",
    "\n",
    "ax[1,0].set_title('OTF')\n",
    "ax[1,1].set_title('Pseudoinverse')\n",
    "ax[1,2].set_title('Recovered (noiseless)')\n",
    "\n",
    "fig.tight_layout()\n",
    "fig.subplots_adjust(top=0.88)"
   ]
  },
  {
   "cell_type": "markdown",
   "metadata": {
    "slideshow": {
     "slide_type": "slide"
    }
   },
   "source": [
    "# Pseudoinverse: To do\n",
    "\n",
    "Change the width of the Gaussian blur by changing the sig parameter in the first cell.\n",
    "\n",
    "Now run this cell again and look at the OTF.\n",
    "\n",
    "When you are done, set it back to 0.01.\n",
    "\n",
    "In the next slide we are going to add noise and see what happens to the pseudoinverse. "
   ]
  },
  {
   "cell_type": "code",
   "execution_count": null,
   "metadata": {
    "slideshow": {
     "slide_type": "slide"
    }
   },
   "outputs": [],
   "source": [
    "#Now let's add noise\n",
    "\n",
    "noise_factor = 0.1\n",
    "\n",
    "imfilt1noise = imfilt1 + np.random.normal(size=imfilt1.shape)*noise_factor\n",
    "\n",
    "restor1noise = np.real(fftshift(ifft2(fft2(imfilt1noise)*pseudoinv)))\n",
    "\n",
    "fig, ax = plt.subplots(2, 3, figsize=(9,6))\n",
    "fig.suptitle(\"Pseudoinverse with noise\", fontsize=16)\n",
    "\n",
    "\n",
    "# Plot original\n",
    "ax[0,0].imshow(im, cmap='gray')\n",
    "ax[0,1].imshow(imfilt1noise,cmap='gray')\n",
    "ax[0,2].imshow(restor1noise,cmap='gray')\n",
    "\n",
    "ax[0,0].set_title('Original image')\n",
    "ax[0,1].set_title('Blurred noisy image')\n",
    "ax[0,2].set_title('Pseudoinverse restor.')\n",
    "\n",
    "ax[1,0].plot(np.abs(im[256,:]))\n",
    "ax[1,1].plot(np.abs(imfilt1noise[256,:]))\n",
    "ax[1,2].plot(restor1noise[256,:])\n",
    "\n",
    "fig.tight_layout()\n",
    "fig.subplots_adjust(top=0.88)"
   ]
  },
  {
   "cell_type": "markdown",
   "metadata": {
    "slideshow": {
     "slide_type": "slide"
    }
   },
   "source": [
    "# Tikhonov regularization\n",
    "\n",
    "In analyzing problems of this kind, the Russian mathematician Tikhonov\n",
    "proposed estimating the solution of the equation of interest by\n",
    "\n",
    "$$\\mathbf{f}_{{\\mathrm{Tikhonov}}}(x)=\\min_{f(x)}\\int\\left\\{ \\left|{\\mathbf{g}}(x)-{\\mathrm{psf}}(x)*f(x)\\right|^{2}+\\alpha\\left|f(x)\\right|^{2}\\right\\} \\,dx,$$\n",
    "\n",
    "or in the Fourier domain\n",
    "\n",
    "$$\\mathbf{F}_{{\\mathrm{Tikhonov}}}(\\nu)=\\min_{F(\\nu)}\\int\\left\\{ \\left|{\\mathbf{G}}(\\nu)-OTF(\\nu)F(\\nu)\\right|^{2}+\\alpha\\left|F(\\nu)\\right|^{2}\\right\\} \\,d\\nu.$$\n",
    "\n",
    "Here $\\alpha>0$ is the regularization parameter. \n",
    "\n",
    "This equation can be solved by use of calculus of variations, yielding\n",
    "$$\\mathbf{F}_{{\\mathrm{Tikhonov}}}(\\nu)=\\frac{OTF^{*}(\\nu)}{\\left|OTF(\\nu)\\right|^{2}+\\alpha}{\\mathbf{G}}(\\nu).$$\n",
    "\n",
    "Judicious choice of $\\alpha$ allows the transition between these\n",
    "two regions to occur near the point where the noise starts to become\n",
    "large relative to the signal. \n"
   ]
  },
  {
   "cell_type": "code",
   "execution_count": null,
   "metadata": {
    "slideshow": {
     "slide_type": "slide"
    }
   },
   "outputs": [],
   "source": [
    "#Now try Tikhonov filter on noiseless data\n",
    "\n",
    "alpha = 0.001\n",
    "tikhonov = np.zeros_like(otf)\n",
    "tikhonov=np.conj(otf)/((np.abs(otf))**2+alpha)\n",
    "restortikhonov = np.real(fftshift(ifft2(fft2(imfilt1)*tikhonov)))\n",
    "\n",
    "fig, ax = plt.subplots(2, 3, figsize=(9,6))\n",
    "fig.suptitle(\"Tikhonov\", fontsize=16)\n",
    "\n",
    "\n",
    "logtikh = np.log(np.abs(tikhonov+1e-12)) # Log transform (add small number to avoid underflow issues)\n",
    "\n",
    "# Plot original\n",
    "ax[0,0].imshow(np.abs(otfshift), cmap='gray')\n",
    "ax[0,1].imshow(fftshift(logtikh),cmap='gray')\n",
    "ax[0,2].imshow(restortikhonov,cmap='gray')\n",
    "\n",
    "shifttikh = fftshift(tikhonov)\n",
    "\n",
    "ax[1,0].plot(np.abs(otfshift[256,:]))\n",
    "ax[1,1].plot(np.abs(shifttikh[256,:]))\n",
    "ax[1,2].plot(restortikhonov[256,:])\n",
    "\n",
    "ax[0,0].set_title('OTF')\n",
    "ax[0,1].set_title('log Tikh')\n",
    "ax[0,2].set_title('Recovered (noiseless)')\n",
    "\n",
    "ax[1,0].set_title('OTF')\n",
    "ax[1,1].set_title('Tikh')\n",
    "ax[1,2].set_title('Recovered (noiseless)')\n",
    "fig.tight_layout()\n",
    "fig.subplots_adjust(top=0.88)\n",
    "\n"
   ]
  },
  {
   "cell_type": "code",
   "execution_count": null,
   "metadata": {
    "slideshow": {
     "slide_type": "slide"
    }
   },
   "outputs": [],
   "source": [
    "#Now try Tikhonov filter\n",
    "\n",
    "tikhonov = np.zeros_like(otf)\n",
    "\n",
    "fig, ax = plt.subplots(2, 3, figsize=(9,6))\n",
    "fig.suptitle(\"Tikhonov with noise\", fontsize=16)\n",
    "\n",
    "# Plot original\n",
    "ax[0,0].imshow(im, cmap='gray')\n",
    "ax[0,1].imshow(imfilt1noise,cmap='gray')\n",
    "\n",
    "ax[0,0].set_title('Original image')\n",
    "ax[0,1].set_title('Blurred noisy image')\n",
    "ax[0,2].set_title('Tikhonov restor.')\n",
    "\n",
    "ax[1,0].set_title('Tikhonov filter')\n",
    "ax[1,1].set_title('Blurred noisy image')\n",
    "ax[1,2].set_title('Tikhonov restor.')\n",
    "\n",
    "# Make an updating function\n",
    "def update(alpha = 0.01):\n",
    "    tikhonov=np.conj(otf)/((np.abs(otf))**2+alpha)\n",
    "    shifttikh = fftshift(tikhonov)\n",
    "    restortikhonov = np.real(fftshift(ifft2(fft2(imfilt1noise)*tikhonov)))\n",
    "    ax[0,2].imshow(restortikhonov, cmap='gray')\n",
    "    ax[1,0].plot((np.abs(shifttikh[256,:])))\n",
    "    ax[1,1].plot((np.abs(imfilt1noise[256,:]))) \n",
    "    ax[1,2].plot((np.abs(restortikhonov[256,:])))\n",
    "\n",
    "\n",
    "fig.tight_layout()\n",
    "fig.subplots_adjust(top=0.88)\n",
    "# Add an interactive widget\n",
    "interact(update, alpha=(0.01,1.0,0.01));"
   ]
  },
  {
   "cell_type": "markdown",
   "metadata": {
    "slideshow": {
     "slide_type": "slide"
    }
   },
   "source": [
    "# Tikhonov: To do\n",
    "\n",
    "Play around with the slider to adjust the Tikhonov parameter.\n",
    "\n",
    "Go back to the cell that says Now let's add noise and change the noise factor.\n",
    "\n",
    "When you are done, set the noise factor back to 0.1. "
   ]
  },
  {
   "cell_type": "markdown",
   "metadata": {
    "slideshow": {
     "slide_type": "slide"
    }
   },
   "source": [
    "# Gradient regularization\n",
    "\n",
    "We can change the regularization term in a Tikhovov style set up to penalize the L2 norm of the image gradient, which discourages rapid variation in the image\n",
    "\n",
    "$$\\mathbf{f}_{{\\mathrm{grad}}}(x)=\\min_{f(x)}\\int\\left\\{ \\left|{\\mathbf{g}}(x)-{\\mathrm{psf}}(x)*f(x)\\right|^{2}+\\alpha\\left|\\nabla f(x)\\right|^{2}\\right\\} \\,dx,$$\n",
    "\n",
    "or in the Fourier domain\n",
    "\n",
    "$$\\mathbf{F}_{{\\mathrm{grad}}}(\\nu)=\\min_{F(\\nu)}\\int\\left\\{ \\left|{\\mathbf{G}}(\\nu)-OTF(\\nu)F(\\nu)\\right|^{2}+\\alpha\\nu^2\\left|F(\\nu)\\right|^{2}\\right\\} \\,d\\nu.$$\n",
    "\n",
    "Here $\\alpha>0$ is the regularization parameter. \n",
    "\n",
    "This equation can be solved by use of calculus of variations, yielding\n",
    "$$\\mathbf{F}_{{\\mathrm{grad}}}(\\nu)=\\frac{OTF^{*}(\\nu)}{\\left|OTF(\\nu)\\right|^{2}+\\alpha\\nu^2}{\\mathbf{G}}(\\nu).$$"
   ]
  },
  {
   "cell_type": "code",
   "execution_count": null,
   "metadata": {
    "slideshow": {
     "slide_type": "slide"
    }
   },
   "outputs": [],
   "source": [
    "#Now try quadratically regularized filter gradient filter\n",
    "\n",
    "alpha = 0.001\n",
    "vmax = 1.0/N\n",
    "\n",
    "# Calculate filter\n",
    "vx = vmax*np.linspace(-1, 1, im.shape[0])\n",
    "vy = vmax*np.linspace(-1, 1, im.shape[1])\n",
    "vx2, vy2 = np.meshgrid(vx, vy)\n",
    "\n",
    "quad = np.zeros_like(otf)\n",
    "imfreq = fftshift(vx2**2+vy2**2)\n",
    "\n",
    "quad=np.conj(otf)/((np.abs(otf))**2+alpha*imfreq)\n",
    "restorquad = np.real(fftshift(ifft2(fft2(imfilt1)*quad)))\n",
    "\n",
    "fig, ax = plt.subplots(2, 3, figsize=(9,6))\n",
    "fig.suptitle(\"Quadratic gradient regularization\", fontsize=16)\n",
    "logquad = np.log(np.abs(quad+1e-12)) # Log transform (add small number to avoid underflow issues)\n",
    "\n",
    "# Plot original\n",
    "ax[0,0].imshow(np.abs(otfshift), cmap='gray')\n",
    "ax[0,1].imshow(fftshift(logquad),cmap='gray')\n",
    "ax[0,2].imshow(restorquad,cmap='gray')\n",
    "\n",
    "shiftquad = fftshift(quad)\n",
    "\n",
    "ax[1,0].plot(np.abs(otfshift[256,:]))\n",
    "ax[1,1].plot(np.abs(shiftquad[256,:]))\n",
    "ax[1,2].plot(restorquad[256,:])\n",
    "\n",
    "ax[0,0].set_title('OTF')\n",
    "ax[0,1].set_title('log Quad')\n",
    "ax[0,2].set_title('Recovered (noiseless)')\n",
    "\n",
    "ax[1,0].set_title('OTF')\n",
    "ax[1,1].set_title('Quad')\n",
    "ax[1,2].set_title('Recovered (noiseless)')\n",
    "fig.tight_layout()\n",
    "fig.subplots_adjust(top=0.88)\n",
    "\n"
   ]
  },
  {
   "cell_type": "code",
   "execution_count": null,
   "metadata": {
    "scrolled": true,
    "slideshow": {
     "slide_type": "slide"
    }
   },
   "outputs": [],
   "source": [
    "#Now try quad filter\n",
    "\n",
    "quad = np.zeros_like(otf)\n",
    "\n",
    "fig, ax = plt.subplots(2, 3, figsize=(9,6))\n",
    "fig.suptitle(\"Quadratic gradient reg. with noise\", fontsize=16)\n",
    "\n",
    "# Plot original\n",
    "ax[0,0].imshow(im, cmap='gray')\n",
    "ax[0,1].imshow(imfilt1noise,cmap='gray')\n",
    "\n",
    "ax[0,0].set_title('Original image')\n",
    "ax[0,1].set_title('Blurred noisy image')\n",
    "ax[0,2].set_title('Quad restor.')\n",
    "\n",
    "ax[1,0].set_title('Quad filter')\n",
    "ax[1,1].set_title('Blurred noisy image')\n",
    "ax[1,2].set_title('Quad restor.')\n",
    "\n",
    "# Make an updating function\n",
    "def update(alpha = 100):\n",
    "    quad=np.conj(otf)/((np.abs(otf))**2+alpha*imfreq)\n",
    "    shiftquad=fftshift(quad)\n",
    "    restorquad = np.real(fftshift(ifft2(fft2(imfilt1noise)*quad)))\n",
    "    ax[0,2].imshow(restorquad, cmap='gray')\n",
    "    ax[1,0].plot((np.abs(shiftquad[256,:])))\n",
    "    ax[1,1].plot((np.abs(imfilt1noise[256,:]))) \n",
    "    ax[1,2].plot((np.abs(restorquad[256,:])))\n",
    "\n",
    "fig.tight_layout()\n",
    "fig.subplots_adjust(top=0.88)\n",
    "# Add an interactive widget\n",
    "interact(update, alpha=(10000,250000,10000));"
   ]
  },
  {
   "cell_type": "markdown",
   "metadata": {
    "slideshow": {
     "slide_type": "slide"
    }
   },
   "source": [
    "# Gradient regularizer: To do\n",
    "\n",
    "Play around with the slider to adjust the Tikhonov parameter.\n",
    "\n",
    "Go back to the cell that says Now let's add noise and change the noise factor.\n",
    "\n",
    "When you are done, set the noise factor back to 0.1."
   ]
  },
  {
   "cell_type": "markdown",
   "metadata": {
    "slideshow": {
     "slide_type": "slide"
    }
   },
   "source": [
    "# Richardson-Lucy deconvolution (aka Maximum likelihood expectation maximimation deconvolution\n",
    "All of the previous filters we derived were analytical, one-shot linear filters. In this cell we will consider an iterative deconvolution method. \n",
    "\n",
    "We need to represent the measured data as a vector $\\mathbf{g}$ assumed to contain $M$ elements and the desired image\n",
    "$f$ as a vector $\\mathbf{f}$ assumed to contain $N$ elements. The two vectors are linked by a $M\\times N$ system matrix $H$ that maps the desired image to the measured data. Implicitly then our discrete imaging equation is \n",
    "\n",
    "$$\\mathbf{g} = H \\mathbf{f} + \\mathbf{n}$$\n",
    "\n",
    "where $\\mathbf{n}$ is a vector of noise. \n",
    "\n"
   ]
  },
  {
   "cell_type": "markdown",
   "metadata": {
    "slideshow": {
     "slide_type": "slide"
    }
   },
   "source": [
    "# Richardson-Lucy deconvolution (aka Maximum likelihood expectation maximimation deconvolution\n",
    "\n",
    "The Richardson Lucy update is given by\n",
    "\n",
    "$$f_{n}^{(k+1)}=f_{n}^{(k)}\\frac{1}{s_{n}}\\sum_{i=0}^{M-1}\\frac{g_{m}}{\\left(H\\boldsymbol{f}^{(k)}\\right)_{m}}H_{mn}$$\n",
    "\n",
    "where $s_{n}$ is a sensitivity term. \n",
    "\n",
    "$$s_{n}=\\sum_{m=0}^{M}H_{mn}$$\n",
    "\n",
    "This expression says: apply the matrix $H$ to the latest guess of the image $\\boldsymbol{f}^{(k)}$ and divide the resulting estimate of the data into the actually measured data. The remaining sum over $m$ with the term $H_{mn}$ maps\n",
    "the resulting correction back into image space. In tomography this operation is a backprojection. In deconvolution it is equivalent to convolving the correction factor with a flipped version of the PSF.\n",
    "\n",
    "\n"
   ]
  },
  {
   "cell_type": "markdown",
   "metadata": {
    "slideshow": {
     "slide_type": "slide"
    }
   },
   "source": [
    "# Richardson-Lucy deconvolution for shift-invariant case\n",
    "In the case of convolution with a normalized PSF (one that sums to 1), the matrix products are themselves equivalent to convolutions and the sensitivity term can be dropped because it is one. \n",
    "\n",
    "So returning to our conitnuous notation, we can write\n",
    "\n",
    "$$f^{(k+1)}\\left(x,y\\right)=f^{(k)}\\left(x,y\\right)\\left[\\left(\\frac{g(x,y)}{f^{(k)}\\left(x,y\\right)}\\right)**psf^{T}(x,y)\\right]$$\n",
    "\n",
    "\n",
    "here $psf^{T}(x,y)$ denotes a flipped PSF. The flipping is not necessary if the PSF is symmetric. "
   ]
  },
  {
   "cell_type": "code",
   "execution_count": null,
   "metadata": {
    "slideshow": {
     "slide_type": "slide"
    }
   },
   "outputs": [],
   "source": [
    "#Try Poisson noise and MLEM\n",
    "\n",
    "noise_level = 20\n",
    "\n",
    "impoisson = np.random.poisson(imfilt1*noise_level+1)\n",
    "\n",
    "fig, ax = plt.subplots(1, 3, figsize=(9,3))\n",
    "fig.suptitle(\"RL/MLEM\", fontsize=16)\n",
    "\n",
    "# Plot original\n",
    "ax[0].imshow(im, cmap='gray')\n",
    "ax[1].imshow(impoisson,cmap='gray')\n",
    "\n",
    "num_iters = 20\n",
    "\n",
    "print(np.sum(psf1))\n",
    "\n",
    "imiter = impoisson\n",
    "\n",
    "for i in range(0,num_iters-1,1):\n",
    "    #convolve latest guess with psf\n",
    "    imblur = np_fftconvolve(imiter, psf1)\n",
    "    #take ratio of the two\n",
    "    ratio = impoisson/imblur\n",
    "    #correction factor obtained by convolving ratio with flipped psf (flip not needed for symmetric PDF)\n",
    "    corr = np_fftconvolve(ratio, psf1)\n",
    "    #update is multiplaicate\n",
    "    imiter = imiter * corr\n",
    "    \n",
    "ax[2].imshow(imiter,cmap='gray')\n",
    "\n",
    "fig.tight_layout()\n",
    "fig.subplots_adjust(top=0.88)"
   ]
  },
  {
   "cell_type": "markdown",
   "metadata": {
    "slideshow": {
     "slide_type": "slide"
    }
   },
   "source": [
    "# RL deconvolution: To do\n",
    "    \n",
    "Change the number of iterations\n",
    "\n",
    "Change the noise level "
   ]
  },
  {
   "cell_type": "code",
   "execution_count": null,
   "metadata": {},
   "outputs": [],
   "source": []
  }
 ],
 "metadata": {
  "celltoolbar": "Slideshow",
  "kernelspec": {
   "display_name": "Python 3",
   "language": "python",
   "name": "python3"
  },
  "language_info": {
   "codemirror_mode": {
    "name": "ipython",
    "version": 3
   },
   "file_extension": ".py",
   "mimetype": "text/x-python",
   "name": "python",
   "nbconvert_exporter": "python",
   "pygments_lexer": "ipython3",
   "version": "3.6.6"
  }
 },
 "nbformat": 4,
 "nbformat_minor": 2
}
